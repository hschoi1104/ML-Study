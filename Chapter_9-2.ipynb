{
 "cells": [
  {
   "cell_type": "markdown",
   "metadata": {},
   "source": [
    "## ch9.2\n",
    "\n",
    "### 원하는 숫자 생성하기"
   ]
  },
  {
   "cell_type": "code",
   "execution_count": 1,
   "metadata": {},
   "outputs": [
    {
     "name": "stdout",
     "output_type": "stream",
     "text": [
      "WARNING:tensorflow:From c:\\python3.7\\lib\\site-packages\\tensorflow_core\\python\\compat\\v2_compat.py:65: disable_resource_variables (from tensorflow.python.ops.variable_scope) is deprecated and will be removed in a future version.\n",
      "Instructions for updating:\n",
      "non-resource variables are not supported in the long term\n",
      "WARNING:tensorflow:From <ipython-input-1-5cddaaba2ba1>:7: read_data_sets (from tensorflow.examples.tutorials.mnist.input_data) is deprecated and will be removed in a future version.\n",
      "Instructions for updating:\n",
      "Please use alternatives such as: tensorflow_datasets.load('mnist')\n",
      "WARNING:tensorflow:From c:\\python3.7\\lib\\site-packages\\tensorflow_core\\examples\\tutorials\\mnist\\input_data.py:297: _maybe_download (from tensorflow.examples.tutorials.mnist.input_data) is deprecated and will be removed in a future version.\n",
      "Instructions for updating:\n",
      "Please write your own downloading logic.\n",
      "WARNING:tensorflow:From c:\\python3.7\\lib\\site-packages\\tensorflow_core\\examples\\tutorials\\mnist\\input_data.py:299: _extract_images (from tensorflow.examples.tutorials.mnist.input_data) is deprecated and will be removed in a future version.\n",
      "Instructions for updating:\n",
      "Please use tf.data to implement this functionality.\n",
      "Extracting ./mnist/data/train-images-idx3-ubyte.gz\n",
      "WARNING:tensorflow:From c:\\python3.7\\lib\\site-packages\\tensorflow_core\\examples\\tutorials\\mnist\\input_data.py:304: _extract_labels (from tensorflow.examples.tutorials.mnist.input_data) is deprecated and will be removed in a future version.\n",
      "Instructions for updating:\n",
      "Please use tf.data to implement this functionality.\n",
      "Extracting ./mnist/data/train-labels-idx1-ubyte.gz\n",
      "WARNING:tensorflow:From c:\\python3.7\\lib\\site-packages\\tensorflow_core\\examples\\tutorials\\mnist\\input_data.py:112: _dense_to_one_hot (from tensorflow.examples.tutorials.mnist.input_data) is deprecated and will be removed in a future version.\n",
      "Instructions for updating:\n",
      "Please use tf.one_hot on tensors.\n",
      "Extracting ./mnist/data/t10k-images-idx3-ubyte.gz\n",
      "Extracting ./mnist/data/t10k-labels-idx1-ubyte.gz\n",
      "WARNING:tensorflow:From c:\\python3.7\\lib\\site-packages\\tensorflow_core\\examples\\tutorials\\mnist\\input_data.py:328: _DataSet.__init__ (from tensorflow.examples.tutorials.mnist.input_data) is deprecated and will be removed in a future version.\n",
      "Instructions for updating:\n",
      "Please use alternatives such as official/mnist/_DataSet.py from tensorflow/models.\n"
     ]
    }
   ],
   "source": [
    "import tensorflow.compat.v1 as tf\n",
    "tf.disable_v2_behavior()\n",
    "import numpy as np\n",
    "import matplotlib.pyplot as plt\n",
    "\n",
    "from tensorflow.examples.tutorials.mnist import input_data\n",
    "mnist = input_data.read_data_sets(\"./mnist/data/\", one_hot=True)\n",
    "\n",
    "\n",
    "total_epoch = 100\n",
    "batch_size = 100\n",
    "n_hidden = 256\n",
    "n_input = 28 * 28\n",
    "n_noise = 128\n",
    "n_class = 10\n",
    "\n",
    "X = tf.placeholder(tf.float32, [None, n_input])\n",
    "Y = tf.placeholder(tf.float32, [None, n_class])\n",
    "Z = tf.placeholder(tf.float32, [None, n_noise])\n"
   ]
  },
  {
   "cell_type": "markdown",
   "metadata": {},
   "source": [
    "#### 생성자 신경망 구성\n",
    "- tf.layers 를 이용\n",
    "- 변수를 선언하지 않고 다음과 같이 스코프 지정 가능"
   ]
  },
  {
   "cell_type": "code",
   "execution_count": 2,
   "metadata": {},
   "outputs": [],
   "source": [
    "def generator(noise, labels):\n",
    "    with tf.variable_scope('generator'):\n",
    "        # noise 값에 labels 정보를 추가합니다.\n",
    "        inputs = tf.concat([noise, labels], 1)\n",
    "\n",
    "        # TensorFlow 에서 제공하는 유틸리티 함수를 이용해 신경망을 매우 간단하게 구성할 수 있습니다.\n",
    "        hidden = tf.layers.dense(inputs, n_hidden,\n",
    "                                 activation=tf.nn.relu)\n",
    "        output = tf.layers.dense(hidden, n_input,\n",
    "                                 activation=tf.nn.sigmoid)\n",
    "\n",
    "    return output"
   ]
  },
  {
   "cell_type": "markdown",
   "metadata": {},
   "source": [
    "#### 구분자 신경망 구성\n",
    "- 진짜와 가짜를 판별할때 똑같은 변수를 사용해야 한다. 그러기위해 scope.reuse_variables 이용하여 재사용하도록 함\n",
    "- 출력값은 손실값 계산에 sigmoid_cross_entropy_with_logits 함수사용"
   ]
  },
  {
   "cell_type": "code",
   "execution_count": 3,
   "metadata": {},
   "outputs": [],
   "source": [
    "def discriminator(inputs, labels, reuse=None):\n",
    "    with tf.variable_scope('discriminator') as scope:\n",
    "        # 노이즈에서 생성한 이미지와 실제 이미지를 판별하는 모델의 변수를 동일하게 하기 위해,\n",
    "        # 이전에 사용되었던 변수를 재사용하도록 합니다.\n",
    "        if reuse:\n",
    "            scope.reuse_variables()\n",
    "\n",
    "        inputs = tf.concat([inputs, labels], 1)\n",
    "\n",
    "        hidden = tf.layers.dense(inputs, n_hidden,\n",
    "                                 activation=tf.nn.relu)\n",
    "        output = tf.layers.dense(hidden, 1,\n",
    "                                 activation=None)\n",
    "\n",
    "    return output\n"
   ]
  },
  {
   "cell_type": "markdown",
   "metadata": {},
   "source": [
    "#### 노이즈 생성함수\n",
    "- 균등분포로 생성"
   ]
  },
  {
   "cell_type": "code",
   "execution_count": 4,
   "metadata": {},
   "outputs": [],
   "source": [
    "def get_noise(batch_size, n_noise):\n",
    "    return np.random.uniform(-1., 1., size=[batch_size, n_noise])"
   ]
  },
  {
   "cell_type": "code",
   "execution_count": 5,
   "metadata": {},
   "outputs": [
    {
     "name": "stdout",
     "output_type": "stream",
     "text": [
      "WARNING:tensorflow:From <ipython-input-2-432a569f90b8>:8: dense (from tensorflow.python.layers.core) is deprecated and will be removed in a future version.\n",
      "Instructions for updating:\n",
      "Use keras.layers.Dense instead.\n",
      "WARNING:tensorflow:From c:\\python3.7\\lib\\site-packages\\tensorflow_core\\python\\layers\\core.py:187: Layer.apply (from tensorflow.python.keras.engine.base_layer) is deprecated and will be removed in a future version.\n",
      "Instructions for updating:\n",
      "Please use `layer.__call__` method instead.\n"
     ]
    }
   ],
   "source": [
    "# 생성 모델과 판별 모델에 Y 즉, labels 정보를 추가하여\n",
    "# labels 정보에 해당하는 이미지를 생성할 수 있도록 유도합니다.\n",
    "G = generator(Z, Y)\n",
    "D_real = discriminator(X, Y)\n",
    "D_gene = discriminator(G, Y, True)"
   ]
  },
  {
   "cell_type": "code",
   "execution_count": 6,
   "metadata": {},
   "outputs": [],
   "source": [
    "loss_D_real = tf.reduce_mean(tf.nn.sigmoid_cross_entropy_with_logits(logits=D_real, labels=tf.ones_like(D_real)))\n",
    "loss_D_gene = tf.reduce_mean(tf.nn.sigmoid_cross_entropy_with_logits(logits=D_gene, labels=tf.zeros_like(D_gene)))\n",
    "\n",
    "loss_D = loss_D_real + loss_D_gene\n",
    "\n",
    "loss_G = tf.reduce_mean(tf.nn.sigmoid_cross_entropy_with_logits(logits=D_gene, labels=tf.ones_like(D_gene)))\n",
    "\n",
    "vars_D = tf.get_collection(tf.GraphKeys.TRAINABLE_VARIABLES,scope='discriminator')\n",
    "vars_G = tf.get_collection(tf.GraphKeys.TRAINABLE_VARIABLES,scope='generator')\n",
    "\n",
    "train_D = tf.train.AdamOptimizer().minimize(loss_D,var_list=vars_D)\n",
    "train_G = tf.train.AdamOptimizer().minimize(loss_G,var_list=vars_G)"
   ]
  },
  {
   "cell_type": "markdown",
   "metadata": {},
   "source": [
    "#### 학습진행"
   ]
  },
  {
   "cell_type": "code",
   "execution_count": 7,
   "metadata": {},
   "outputs": [
    {
     "name": "stdout",
     "output_type": "stream",
     "text": [
      "Epoch: 0000 D loss: 0.005998 G loss: 7.291\n",
      "Epoch: 0001 D loss: 0.01454 G loss: 8.082\n",
      "Epoch: 0002 D loss: 0.01689 G loss: 8.025\n",
      "Epoch: 0003 D loss: 0.0271 G loss: 6.799\n",
      "Epoch: 0004 D loss: 0.01996 G loss: 7.088\n",
      "Epoch: 0005 D loss: 0.0293 G loss: 7.054\n",
      "Epoch: 0006 D loss: 0.09302 G loss: 7.97\n",
      "Epoch: 0007 D loss: 0.1017 G loss: 6.465\n",
      "Epoch: 0008 D loss: 0.0775 G loss: 6.327\n",
      "Epoch: 0009 D loss: 0.1886 G loss: 5.536\n",
      "Epoch: 0010 D loss: 0.4207 G loss: 4.667\n",
      "Epoch: 0011 D loss: 0.3436 G loss: 3.867\n",
      "Epoch: 0012 D loss: 0.1963 G loss: 5.271\n",
      "Epoch: 0013 D loss: 0.3338 G loss: 5.002\n",
      "Epoch: 0014 D loss: 0.3873 G loss: 4.466\n",
      "Epoch: 0015 D loss: 0.5526 G loss: 4.446\n",
      "Epoch: 0016 D loss: 0.4301 G loss: 3.441\n",
      "Epoch: 0017 D loss: 0.5794 G loss: 3.804\n",
      "Epoch: 0018 D loss: 0.4653 G loss: 3.329\n",
      "Epoch: 0019 D loss: 0.5479 G loss: 3.141\n",
      "Epoch: 0020 D loss: 0.8177 G loss: 2.587\n",
      "Epoch: 0021 D loss: 0.6188 G loss: 3.215\n",
      "Epoch: 0022 D loss: 0.6106 G loss: 2.889\n",
      "Epoch: 0023 D loss: 0.7095 G loss: 2.931\n",
      "Epoch: 0024 D loss: 0.5089 G loss: 2.875\n",
      "Epoch: 0025 D loss: 0.6379 G loss: 3.082\n",
      "Epoch: 0026 D loss: 0.508 G loss: 2.682\n",
      "Epoch: 0027 D loss: 0.5554 G loss: 2.842\n",
      "Epoch: 0028 D loss: 0.6476 G loss: 2.822\n",
      "Epoch: 0029 D loss: 0.94 G loss: 2.555\n",
      "Epoch: 0030 D loss: 0.7102 G loss: 3.17\n",
      "Epoch: 0031 D loss: 0.5294 G loss: 2.804\n",
      "Epoch: 0032 D loss: 0.6089 G loss: 2.667\n",
      "Epoch: 0033 D loss: 0.6969 G loss: 2.135\n",
      "Epoch: 0034 D loss: 0.5992 G loss: 2.481\n",
      "Epoch: 0035 D loss: 0.5807 G loss: 2.563\n",
      "Epoch: 0036 D loss: 0.5788 G loss: 2.11\n",
      "Epoch: 0037 D loss: 0.8357 G loss: 2.293\n",
      "Epoch: 0038 D loss: 0.7284 G loss: 2.091\n",
      "Epoch: 0039 D loss: 0.8109 G loss: 2.135\n",
      "Epoch: 0040 D loss: 0.8418 G loss: 2.32\n",
      "Epoch: 0041 D loss: 0.6534 G loss: 2.171\n",
      "Epoch: 0042 D loss: 0.7879 G loss: 2.478\n",
      "Epoch: 0043 D loss: 0.8279 G loss: 2.621\n",
      "Epoch: 0044 D loss: 0.5557 G loss: 2.418\n",
      "Epoch: 0045 D loss: 0.6489 G loss: 2.603\n",
      "Epoch: 0046 D loss: 0.7101 G loss: 2.477\n",
      "Epoch: 0047 D loss: 0.6775 G loss: 2.138\n",
      "Epoch: 0048 D loss: 0.6002 G loss: 2.329\n",
      "Epoch: 0049 D loss: 0.6488 G loss: 2.435\n",
      "Epoch: 0050 D loss: 0.6702 G loss: 2.354\n",
      "Epoch: 0051 D loss: 0.6976 G loss: 2.12\n",
      "Epoch: 0052 D loss: 0.6726 G loss: 2.33\n",
      "Epoch: 0053 D loss: 0.5835 G loss: 2.373\n",
      "Epoch: 0054 D loss: 0.7921 G loss: 2.073\n",
      "Epoch: 0055 D loss: 0.6305 G loss: 2.356\n",
      "Epoch: 0056 D loss: 0.8542 G loss: 2.334\n",
      "Epoch: 0057 D loss: 0.8138 G loss: 1.867\n",
      "Epoch: 0058 D loss: 0.7742 G loss: 2.284\n",
      "Epoch: 0059 D loss: 0.6599 G loss: 2.426\n",
      "Epoch: 0060 D loss: 0.6933 G loss: 2.046\n",
      "Epoch: 0061 D loss: 0.7562 G loss: 2.45\n",
      "Epoch: 0062 D loss: 0.7108 G loss: 2.164\n",
      "Epoch: 0063 D loss: 0.7952 G loss: 1.767\n",
      "Epoch: 0064 D loss: 0.6977 G loss: 2.242\n",
      "Epoch: 0065 D loss: 0.7851 G loss: 1.86\n",
      "Epoch: 0066 D loss: 0.6649 G loss: 2.15\n",
      "Epoch: 0067 D loss: 0.7697 G loss: 2.082\n",
      "Epoch: 0068 D loss: 0.7415 G loss: 1.993\n",
      "Epoch: 0069 D loss: 0.7154 G loss: 2.188\n",
      "Epoch: 0070 D loss: 0.7133 G loss: 1.777\n",
      "Epoch: 0071 D loss: 0.7308 G loss: 1.744\n",
      "Epoch: 0072 D loss: 0.6864 G loss: 1.839\n",
      "Epoch: 0073 D loss: 0.7817 G loss: 2.004\n",
      "Epoch: 0074 D loss: 0.5878 G loss: 2.513\n",
      "Epoch: 0075 D loss: 0.7707 G loss: 1.722\n",
      "Epoch: 0076 D loss: 0.8226 G loss: 1.662\n",
      "Epoch: 0077 D loss: 0.9509 G loss: 1.791\n",
      "Epoch: 0078 D loss: 0.7327 G loss: 2.379\n",
      "Epoch: 0079 D loss: 0.7859 G loss: 2.083\n",
      "Epoch: 0080 D loss: 0.6679 G loss: 2.473\n",
      "Epoch: 0081 D loss: 0.8302 G loss: 1.918\n",
      "Epoch: 0082 D loss: 0.5869 G loss: 2.292\n",
      "Epoch: 0083 D loss: 0.8615 G loss: 1.907\n",
      "Epoch: 0084 D loss: 0.6624 G loss: 2.02\n",
      "Epoch: 0085 D loss: 0.7165 G loss: 2.249\n",
      "Epoch: 0086 D loss: 0.7066 G loss: 2.224\n",
      "Epoch: 0087 D loss: 0.8019 G loss: 1.798\n",
      "Epoch: 0088 D loss: 0.9133 G loss: 1.538\n",
      "Epoch: 0089 D loss: 0.9657 G loss: 1.849\n",
      "Epoch: 0090 D loss: 0.8228 G loss: 2.279\n",
      "Epoch: 0091 D loss: 0.9463 G loss: 1.604\n",
      "Epoch: 0092 D loss: 0.7721 G loss: 2.002\n",
      "Epoch: 0093 D loss: 0.7637 G loss: 2.007\n",
      "Epoch: 0094 D loss: 0.6991 G loss: 2.114\n",
      "Epoch: 0095 D loss: 0.6916 G loss: 2.129\n",
      "Epoch: 0096 D loss: 0.6069 G loss: 1.907\n",
      "Epoch: 0097 D loss: 0.7631 G loss: 2.049\n",
      "Epoch: 0098 D loss: 0.8697 G loss: 2.128\n",
      "Epoch: 0099 D loss: 0.838 G loss: 1.71\n",
      "최적화 완료!\n"
     ]
    }
   ],
   "source": [
    "sess = tf.Session()\n",
    "sess.run(tf.global_variables_initializer())\n",
    "\n",
    "total_batch = int(mnist.train.num_examples/batch_size)\n",
    "loss_val_D, loss_val_G = 0, 0\n",
    "\n",
    "for epoch in range(total_epoch):\n",
    "    for i in range(total_batch):\n",
    "        batch_xs, batch_ys = mnist.train.next_batch(batch_size)\n",
    "        noise = get_noise(batch_size, n_noise)\n",
    "\n",
    "        _, loss_val_D = sess.run([train_D, loss_D],\n",
    "                                 feed_dict={X: batch_xs, Y: batch_ys, Z: noise})\n",
    "        _, loss_val_G = sess.run([train_G, loss_G],\n",
    "                                 feed_dict={Y: batch_ys, Z: noise})\n",
    "\n",
    "    print('Epoch:', '%04d' % epoch,\n",
    "          'D loss: {:.4}'.format(loss_val_D),\n",
    "          'G loss: {:.4}'.format(loss_val_G))\n",
    "\n",
    "    if epoch == 0 or (epoch + 1) % 10 == 0:\n",
    "        sample_size = 10\n",
    "        noise = get_noise(sample_size, n_noise)\n",
    "        samples = sess.run(G,\n",
    "                           feed_dict={Y: mnist.test.labels[:sample_size],\n",
    "                                      Z: noise})\n",
    "\n",
    "        fig, ax = plt.subplots(2, sample_size, figsize=(sample_size, 2))\n",
    "\n",
    "        for i in range(sample_size):\n",
    "            ax[0][i].set_axis_off()\n",
    "            ax[1][i].set_axis_off()\n",
    "\n",
    "            ax[0][i].imshow(np.reshape(mnist.test.images[i], (28, 28)))\n",
    "            ax[1][i].imshow(np.reshape(samples[i], (28, 28)))\n",
    "\n",
    "        plt.savefig('ch9-2_samples/{}.png'.format(str(epoch).zfill(3)), bbox_inches='tight')\n",
    "        plt.close(fig)\n",
    "\n",
    "print('최적화 완료!')"
   ]
  },
  {
   "cell_type": "code",
   "execution_count": null,
   "metadata": {},
   "outputs": [],
   "source": []
  }
 ],
 "metadata": {
  "kernelspec": {
   "display_name": "Python 3",
   "language": "python",
   "name": "python3"
  },
  "language_info": {
   "codemirror_mode": {
    "name": "ipython",
    "version": 3
   },
   "file_extension": ".py",
   "mimetype": "text/x-python",
   "name": "python",
   "nbconvert_exporter": "python",
   "pygments_lexer": "ipython3",
   "version": "3.7.6"
  }
 },
 "nbformat": 4,
 "nbformat_minor": 4
}
