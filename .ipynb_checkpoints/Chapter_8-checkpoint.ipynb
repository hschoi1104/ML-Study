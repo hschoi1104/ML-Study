{
 "cells": [
  {
   "cell_type": "markdown",
   "metadata": {},
   "source": [
    "# Chapter 8\n",
    "\n",
    "## ch8.1\n",
    "### 비지도 학습 Autoencoder"
   ]
  },
  {
   "cell_type": "markdown",
   "metadata": {},
   "source": [
    "`지도학습` : 원하는 결과를 알려주고 학습하게 하는 방법\n",
    "\n",
    "`비지도학습` : 입력값으로 부터 데이터의 특징을 찾아내는 학습방법\n",
    "\n",
    "`오토인코더` : 입력값과 출력값을 같게하는 신경망\n",
    " \n",
    " - 가운데 계층의 노드 수가 입력값보다 적은 것이 특징\n",
    " - 입력데이터 압축\n",
    " - 노이즈 제거 효과적\n",
    " - 입력층의 데이터를 `인코더`를 통해 은닉층으로 내보내고, 은닉층의 데이터를 `디코더`를 통해 출력층으로 내보내고, 만들어진 출력값을 입력값과 비슷해지도록 가중치를 찾아내는 것"
   ]
  },
  {
   "cell_type": "code",
   "execution_count": 3,
   "metadata": {},
   "outputs": [
    {
     "name": "stdout",
     "output_type": "stream",
     "text": [
      "WARNING:tensorflow:From c:\\python3.7\\lib\\site-packages\\tensorflow_core\\python\\compat\\v2_compat.py:65: disable_resource_variables (from tensorflow.python.ops.variable_scope) is deprecated and will be removed in a future version.\n",
      "Instructions for updating:\n",
      "non-resource variables are not supported in the long term\n",
      "WARNING:tensorflow:From <ipython-input-3-ca5da1a1430c>:7: read_data_sets (from tensorflow.examples.tutorials.mnist.input_data) is deprecated and will be removed in a future version.\n",
      "Instructions for updating:\n",
      "Please use alternatives such as: tensorflow_datasets.load('mnist')\n",
      "WARNING:tensorflow:From c:\\python3.7\\lib\\site-packages\\tensorflow_core\\examples\\tutorials\\mnist\\input_data.py:297: _maybe_download (from tensorflow.examples.tutorials.mnist.input_data) is deprecated and will be removed in a future version.\n",
      "Instructions for updating:\n",
      "Please write your own downloading logic.\n",
      "WARNING:tensorflow:From c:\\python3.7\\lib\\site-packages\\tensorflow_core\\examples\\tutorials\\mnist\\input_data.py:299: _extract_images (from tensorflow.examples.tutorials.mnist.input_data) is deprecated and will be removed in a future version.\n",
      "Instructions for updating:\n",
      "Please use tf.data to implement this functionality.\n",
      "Extracting ./mnist/data/train-images-idx3-ubyte.gz\n",
      "WARNING:tensorflow:From c:\\python3.7\\lib\\site-packages\\tensorflow_core\\examples\\tutorials\\mnist\\input_data.py:304: _extract_labels (from tensorflow.examples.tutorials.mnist.input_data) is deprecated and will be removed in a future version.\n",
      "Instructions for updating:\n",
      "Please use tf.data to implement this functionality.\n",
      "Extracting ./mnist/data/train-labels-idx1-ubyte.gz\n",
      "WARNING:tensorflow:From c:\\python3.7\\lib\\site-packages\\tensorflow_core\\examples\\tutorials\\mnist\\input_data.py:112: _dense_to_one_hot (from tensorflow.examples.tutorials.mnist.input_data) is deprecated and will be removed in a future version.\n",
      "Instructions for updating:\n",
      "Please use tf.one_hot on tensors.\n",
      "Extracting ./mnist/data/t10k-images-idx3-ubyte.gz\n",
      "Extracting ./mnist/data/t10k-labels-idx1-ubyte.gz\n",
      "WARNING:tensorflow:From c:\\python3.7\\lib\\site-packages\\tensorflow_core\\examples\\tutorials\\mnist\\input_data.py:328: _DataSet.__init__ (from tensorflow.examples.tutorials.mnist.input_data) is deprecated and will be removed in a future version.\n",
      "Instructions for updating:\n",
      "Please use alternatives such as official/mnist/_DataSet.py from tensorflow/models.\n"
     ]
    }
   ],
   "source": [
    "import tensorflow.compat.v1 as tf\n",
    "tf.disable_v2_behavior()\n",
    "import numpy as np\n",
    "import matplotlib.pyplot as plt\n",
    "\n",
    "from tensorflow.examples.tutorials.mnist import input_data\n",
    "mnist = input_data.read_data_sets(\"./mnist/data/\", one_hot=True)"
   ]
  },
  {
   "cell_type": "markdown",
   "metadata": {},
   "source": [
    "#### 하이퍼파라미터로 사용할 옵션들을 따로 빼내어 코드를 구조화"
   ]
  },
  {
   "cell_type": "code",
   "execution_count": 2,
   "metadata": {},
   "outputs": [],
   "source": [
    "learning_rate = 0.01\n",
    "training_epoch = 20\n",
    "batch_size = 100\n",
    "n_hidden = 256 #은닉층 뉴런개수\n",
    "n_input = 28*28 # 입력값의 크기"
   ]
  },
  {
   "cell_type": "markdown",
   "metadata": {},
   "source": [
    "#### 신경망 모델 구성"
   ]
  },
  {
   "cell_type": "code",
   "execution_count": 3,
   "metadata": {},
   "outputs": [],
   "source": [
    "X = tf.placeholder(tf.float32, [None, n_input])"
   ]
  },
  {
   "cell_type": "markdown",
   "metadata": {},
   "source": [
    "#### 인코더\n",
    "- 은닉층이 더 작아서 입력값을 압축하고 노이즈를 제거하면서 입력값의 특징을 찾아내게 됨."
   ]
  },
  {
   "cell_type": "code",
   "execution_count": 4,
   "metadata": {},
   "outputs": [],
   "source": [
    "W_encode = tf.Variable(tf.random_normal([n_input,n_hidden]))\n",
    "b_encode = tf.Variable(tf.random_normal([n_hidden]))\n",
    "\n",
    "encoder = tf.nn.sigmoid(tf.add(tf.matmul(X,W_encode),b_encode))"
   ]
  },
  {
   "cell_type": "markdown",
   "metadata": {},
   "source": [
    "#### 디코더"
   ]
  },
  {
   "cell_type": "code",
   "execution_count": 5,
   "metadata": {},
   "outputs": [],
   "source": [
    "W_decode = tf.Variable(tf.random_normal([n_hidden,n_input]))\n",
    "b_decode = tf.Variable(tf.random_normal([n_input]))\n",
    "\n",
    "decoder = tf.nn.sigmoid(tf.add(tf.matmul(encoder,W_decode),b_decode))"
   ]
  },
  {
   "cell_type": "markdown",
   "metadata": {},
   "source": [
    "#### 입력층(784) -> 은닉층(256) -> 출력층(784)\n",
    "#### 손실함수\n",
    "\n",
    "- 입력 X를 평가하기 위한 실측값으로 사용하고, 디코더가 내보낸 결괏값과의 차이를 손실값으로 설정, 그리고 그 값의 차이를 거리 함수로 구함"
   ]
  },
  {
   "cell_type": "code",
   "execution_count": 6,
   "metadata": {},
   "outputs": [],
   "source": [
    "cost = tf.reduce_mean(tf.pow(X - decoder, 2))"
   ]
  },
  {
   "cell_type": "markdown",
   "metadata": {},
   "source": [
    "#### 최적화 함수"
   ]
  },
  {
   "cell_type": "code",
   "execution_count": 7,
   "metadata": {},
   "outputs": [
    {
     "name": "stdout",
     "output_type": "stream",
     "text": [
      "WARNING:tensorflow:From c:\\python3.7\\lib\\site-packages\\tensorflow_core\\python\\training\\rmsprop.py:119: calling Ones.__init__ (from tensorflow.python.ops.init_ops) with dtype is deprecated and will be removed in a future version.\n",
      "Instructions for updating:\n",
      "Call initializer instance with the dtype argument instead of passing it to the constructor\n"
     ]
    }
   ],
   "source": [
    "optimizer = tf.train.RMSPropOptimizer(learning_rate).minimize(cost)"
   ]
  },
  {
   "cell_type": "markdown",
   "metadata": {},
   "source": [
    "#### 학습 시작"
   ]
  },
  {
   "cell_type": "code",
   "execution_count": 21,
   "metadata": {},
   "outputs": [
    {
     "name": "stdout",
     "output_type": "stream",
     "text": [
      "Epoch: 0001 Avg. cost = 0.2096\n",
      "Epoch: 0002 Avg. cost = 0.0713\n",
      "Epoch: 0003 Avg. cost = 0.0625\n",
      "Epoch: 0004 Avg. cost = 0.0568\n",
      "Epoch: 0005 Avg. cost = 0.0502\n",
      "Epoch: 0006 Avg. cost = 0.0473\n",
      "Epoch: 0007 Avg. cost = 0.0452\n",
      "Epoch: 0008 Avg. cost = 0.0419\n",
      "Epoch: 0009 Avg. cost = 0.0408\n",
      "Epoch: 0010 Avg. cost = 0.0403\n",
      "Epoch: 0011 Avg. cost = 0.0399\n",
      "Epoch: 0012 Avg. cost = 0.0396\n",
      "Epoch: 0013 Avg. cost = 0.0394\n",
      "Epoch: 0014 Avg. cost = 0.0392\n",
      "Epoch: 0015 Avg. cost = 0.0388\n",
      "Epoch: 0016 Avg. cost = 0.0370\n",
      "Epoch: 0017 Avg. cost = 0.0365\n",
      "Epoch: 0018 Avg. cost = 0.0360\n",
      "Epoch: 0019 Avg. cost = 0.0358\n",
      "Epoch: 0020 Avg. cost = 0.0357\n",
      "최적화 완료\n",
      "==하이퍼파라미터 정보==\n",
      "learning_rate\n",
      "0.01\n",
      "training_epoch\n",
      "20\n",
      "batch_size\n",
      "100\n",
      "n_hidden\n",
      "256\n",
      "n_input\n",
      "784\n"
     ]
    }
   ],
   "source": [
    "init = tf.global_variables_initializer()\n",
    "sess = tf.Session()\n",
    "sess.run(init)\n",
    "\n",
    "total_batch = int(mnist.train.num_examples/batch_size)\n",
    "\n",
    "for epoch in range(training_epoch):\n",
    "    total_cost = 0\n",
    "    \n",
    "    for i in range(total_batch):\n",
    "        batch_xs, batch_ys = mnist.train.next_batch(batch_size)\n",
    "        \n",
    "        _, cost_val = sess.run([optimizer, cost], feed_dict={X: batch_xs})\n",
    "        \n",
    "        total_cost += cost_val\n",
    "        \n",
    "    print('Epoch:', '%04d' % (epoch +1),'Avg. cost =','{:.4f}'.format(total_cost / total_batch))\n",
    "\n",
    "print('최적화 완료')\n",
    "print('==하이퍼파라미터 정보==')\n",
    "print('learning_rate')\n",
    "print(learning_rate)\n",
    "print('training_epoch')\n",
    "print(training_epoch)\n",
    "print('batch_size')\n",
    "print(batch_size)\n",
    "print('n_hidden')\n",
    "print(n_hidden)\n",
    "print('n_input')\n",
    "print(n_input)"
   ]
  },
  {
   "cell_type": "markdown",
   "metadata": {},
   "source": [
    "#### matplotlib을 이용해 이미지로 출력하여 결과 확인"
   ]
  },
  {
   "cell_type": "code",
   "execution_count": 14,
   "metadata": {},
   "outputs": [],
   "source": [
    "sample_size = 10\n",
    "\n",
    "samples = sess.run(decoder, feed_dict={X:mnist.test.images[:sample_size]})"
   ]
  },
  {
   "cell_type": "markdown",
   "metadata": {},
   "source": [
    "#### numpy 로 MNIST 데이터를 28*28 크기의 이미지 데이터로 재구성 후 그래프에 이미지로 출력"
   ]
  },
  {
   "cell_type": "code",
   "execution_count": 15,
   "metadata": {
    "scrolled": true
   },
   "outputs": [
    {
     "data": {
      "image/png": "[encoded data removed]",
      "text/plain": [
       "<Figure size 720x144 with 20 Axes>"
      ]
     },
     "metadata": {
      "needs_background": "light"
     },
     "output_type": "display_data"
    }
   ],
   "source": [
    "fig, ax = plt.subplots(2, sample_size, figsize = (sample_size,2))\n",
    "\n",
    "for i in range(sample_size):\n",
    "    ax[0][i].set_axis_off()\n",
    "    ax[1][i].set_axis_off()\n",
    "    ax[0][i].imshow(np.reshape(mnist.test.images[i],(28,28)))\n",
    "    ax[1][i].imshow(np.reshape(samples[i],(28,28)))\n",
    "    \n",
    "plt.show()"
   ]
  },
  {
   "cell_type": "markdown",
   "metadata": {},
   "source": [
    "### Epoch 에따른 이미지 잡음 비교"
   ]
  },
  {
   "cell_type": "code",
   "execution_count": 23,
   "metadata": {},
   "outputs": [
    {
     "name": "stdout",
     "output_type": "stream",
     "text": [
      "Epoch: 0001 Avg. cost = 0.1993\n",
      "Epoch: 0002 Avg. cost = 0.0578\n",
      "Epoch: 0003 Avg. cost = 0.0495\n",
      "Epoch: 0004 Avg. cost = 0.0460\n",
      "Epoch: 0005 Avg. cost = 0.0408\n",
      "Epoch: 0006 Avg. cost = 0.0377\n",
      "Epoch: 0007 Avg. cost = 0.0355\n",
      "Epoch: 0008 Avg. cost = 0.0334\n",
      "Epoch: 0009 Avg. cost = 0.0322\n",
      "Epoch: 0010 Avg. cost = 0.0318\n",
      "Epoch: 0011 Avg. cost = 0.0315\n",
      "Epoch: 0012 Avg. cost = 0.0313\n",
      "Epoch: 0013 Avg. cost = 0.0310\n",
      "Epoch: 0014 Avg. cost = 0.0307\n",
      "Epoch: 0015 Avg. cost = 0.0305\n",
      "Epoch: 0016 Avg. cost = 0.0303\n",
      "Epoch: 0017 Avg. cost = 0.0301\n",
      "Epoch: 0018 Avg. cost = 0.0298\n",
      "Epoch: 0019 Avg. cost = 0.0278\n",
      "Epoch: 0020 Avg. cost = 0.0268\n",
      "Epoch: 0021 Avg. cost = 0.0266\n",
      "Epoch: 0022 Avg. cost = 0.0265\n",
      "Epoch: 0023 Avg. cost = 0.0263\n",
      "Epoch: 0024 Avg. cost = 0.0261\n",
      "Epoch: 0025 Avg. cost = 0.0256\n",
      "Epoch: 0026 Avg. cost = 0.0250\n",
      "Epoch: 0027 Avg. cost = 0.0243\n",
      "Epoch: 0028 Avg. cost = 0.0241\n",
      "Epoch: 0029 Avg. cost = 0.0240\n",
      "Epoch: 0030 Avg. cost = 0.0239\n",
      "Epoch: 0031 Avg. cost = 0.0239\n",
      "Epoch: 0032 Avg. cost = 0.0238\n",
      "Epoch: 0033 Avg. cost = 0.0237\n",
      "Epoch: 0034 Avg. cost = 0.0236\n",
      "Epoch: 0035 Avg. cost = 0.0235\n",
      "Epoch: 0036 Avg. cost = 0.0235\n",
      "Epoch: 0037 Avg. cost = 0.0235\n",
      "Epoch: 0038 Avg. cost = 0.0234\n",
      "Epoch: 0039 Avg. cost = 0.0233\n",
      "Epoch: 0040 Avg. cost = 0.0233\n",
      "Epoch: 0041 Avg. cost = 0.0232\n",
      "Epoch: 0042 Avg. cost = 0.0231\n",
      "Epoch: 0043 Avg. cost = 0.0230\n",
      "Epoch: 0044 Avg. cost = 0.0230\n",
      "Epoch: 0045 Avg. cost = 0.0230\n",
      "Epoch: 0046 Avg. cost = 0.0229\n",
      "Epoch: 0047 Avg. cost = 0.0229\n",
      "Epoch: 0048 Avg. cost = 0.0228\n",
      "Epoch: 0049 Avg. cost = 0.0228\n",
      "Epoch: 0050 Avg. cost = 0.0226\n",
      "최적화 완료\n",
      "==하이퍼파라미터 정보==\n",
      "learning_rate\n",
      "0.01\n",
      "training_epoch\n",
      "50\n",
      "batch_size\n",
      "100\n",
      "n_hidden\n",
      "256\n",
      "n_input\n",
      "784\n"
     ]
    },
    {
     "data": {
      "image/png": "[encoded data removed]",
      "text/plain": [
       "<Figure size 720x144 with 20 Axes>"
      ]
     },
     "metadata": {
      "needs_background": "light"
     },
     "output_type": "display_data"
    }
   ],
   "source": [
    "training_epoch = 50\n",
    "\n",
    "X = tf.placeholder(tf.float32, [None, n_input])\n",
    "\n",
    "W_encode = tf.Variable(tf.random_normal([n_input,n_hidden]))\n",
    "b_encode = tf.Variable(tf.random_normal([n_hidden]))\n",
    "\n",
    "encoder = tf.nn.sigmoid(tf.add(tf.matmul(X,W_encode),b_encode))\n",
    "\n",
    "W_decode = tf.Variable(tf.random_normal([n_hidden,n_input]))\n",
    "b_decode = tf.Variable(tf.random_normal([n_input]))\n",
    "\n",
    "decoder = tf.nn.sigmoid(tf.add(tf.matmul(encoder,W_decode),b_decode))\n",
    "\n",
    "cost = tf.reduce_mean(tf.pow(X - decoder, 2))\n",
    "optimizer = tf.train.RMSPropOptimizer(learning_rate).minimize(cost)\n",
    "\n",
    "init = tf.global_variables_initializer()\n",
    "sess = tf.Session()\n",
    "sess.run(init)\n",
    "\n",
    "total_batch = int(mnist.train.num_examples/batch_size)\n",
    "\n",
    "for epoch in range(training_epoch):\n",
    "    total_cost = 0\n",
    "    \n",
    "    for i in range(total_batch):\n",
    "        batch_xs, batch_ys = mnist.train.next_batch(batch_size)\n",
    "        \n",
    "        _, cost_val = sess.run([optimizer, cost], feed_dict={X: batch_xs})\n",
    "        \n",
    "        total_cost += cost_val\n",
    "        \n",
    "    print('Epoch:', '%04d' % (epoch +1),'Avg. cost =','{:.4f}'.format(total_cost / total_batch))\n",
    "\n",
    "print('최적화 완료')\n",
    "print('==하이퍼파라미터 정보==')\n",
    "print('learning_rate')\n",
    "print(learning_rate)\n",
    "print('training_epoch')\n",
    "print(training_epoch)\n",
    "print('batch_size')\n",
    "print(batch_size)\n",
    "print('n_hidden')\n",
    "print(n_hidden)\n",
    "print('n_input')\n",
    "print(n_input)\n",
    "\n",
    "sample_size = 10\n",
    "samples = sess.run(decoder, feed_dict={X:mnist.test.images[:sample_size]})\n",
    "\n",
    "fig, ax = plt.subplots(2, sample_size, figsize = (sample_size,2))\n",
    "\n",
    "for i in range(sample_size):\n",
    "    ax[0][i].set_axis_off()\n",
    "    ax[1][i].set_axis_off()\n",
    "    ax[0][i].imshow(np.reshape(mnist.test.images[i],(28,28)))\n",
    "    ax[1][i].imshow(np.reshape(samples[i],(28,28)))\n",
    "    \n",
    "plt.show()"
   ]
  },
  {
   "cell_type": "markdown",
   "metadata": {},
   "source": [
    "### 은닉층 개수에 따른 결과 비교"
   ]
  },
  {
   "cell_type": "code",
   "execution_count": 5,
   "metadata": {},
   "outputs": [
    {
     "name": "stdout",
     "output_type": "stream",
     "text": [
      "Epoch: 0001 Avg. cost = 0.2020\n",
      "Epoch: 0002 Avg. cost = 0.0535\n",
      "Epoch: 0003 Avg. cost = 0.0423\n",
      "Epoch: 0004 Avg. cost = 0.0391\n",
      "Epoch: 0005 Avg. cost = 0.0363\n",
      "Epoch: 0006 Avg. cost = 0.0345\n",
      "Epoch: 0007 Avg. cost = 0.0333\n",
      "Epoch: 0008 Avg. cost = 0.0311\n",
      "Epoch: 0009 Avg. cost = 0.0302\n",
      "Epoch: 0010 Avg. cost = 0.0297\n",
      "Epoch: 0011 Avg. cost = 0.0291\n",
      "Epoch: 0012 Avg. cost = 0.0283\n",
      "Epoch: 0013 Avg. cost = 0.0279\n",
      "Epoch: 0014 Avg. cost = 0.0273\n",
      "Epoch: 0015 Avg. cost = 0.0266\n",
      "Epoch: 0016 Avg. cost = 0.0260\n",
      "Epoch: 0017 Avg. cost = 0.0254\n",
      "Epoch: 0018 Avg. cost = 0.0250\n",
      "Epoch: 0019 Avg. cost = 0.0248\n",
      "Epoch: 0020 Avg. cost = 0.0246\n",
      "Epoch: 0021 Avg. cost = 0.0245\n",
      "Epoch: 0022 Avg. cost = 0.0241\n",
      "Epoch: 0023 Avg. cost = 0.0237\n",
      "Epoch: 0024 Avg. cost = 0.0233\n",
      "Epoch: 0025 Avg. cost = 0.0231\n",
      "Epoch: 0026 Avg. cost = 0.0230\n",
      "Epoch: 0027 Avg. cost = 0.0229\n",
      "Epoch: 0028 Avg. cost = 0.0228\n",
      "Epoch: 0029 Avg. cost = 0.0226\n",
      "Epoch: 0030 Avg. cost = 0.0224\n",
      "Epoch: 0031 Avg. cost = 0.0222\n",
      "Epoch: 0032 Avg. cost = 0.0221\n",
      "Epoch: 0033 Avg. cost = 0.0220\n",
      "Epoch: 0034 Avg. cost = 0.0220\n",
      "Epoch: 0035 Avg. cost = 0.0220\n",
      "Epoch: 0036 Avg. cost = 0.0219\n",
      "Epoch: 0037 Avg. cost = 0.0219\n",
      "Epoch: 0038 Avg. cost = 0.0219\n",
      "Epoch: 0039 Avg. cost = 0.0217\n",
      "Epoch: 0040 Avg. cost = 0.0217\n",
      "Epoch: 0041 Avg. cost = 0.0216\n",
      "Epoch: 0042 Avg. cost = 0.0216\n",
      "Epoch: 0043 Avg. cost = 0.0216\n",
      "Epoch: 0044 Avg. cost = 0.0216\n",
      "Epoch: 0045 Avg. cost = 0.0215\n",
      "Epoch: 0046 Avg. cost = 0.0215\n",
      "Epoch: 0047 Avg. cost = 0.0215\n",
      "Epoch: 0048 Avg. cost = 0.0215\n",
      "Epoch: 0049 Avg. cost = 0.0214\n",
      "Epoch: 0050 Avg. cost = 0.0214\n",
      "최적화 완료\n",
      "==하이퍼파라미터 정보==\n",
      "learning_rate\n",
      "0.01\n",
      "training_epoch\n",
      "50\n",
      "batch_size\n",
      "100\n",
      "n_hidden\n",
      "512\n",
      "n_input\n",
      "784\n"
     ]
    },
    {
     "data": {
      "image/png": "[encoded data removed]",
      "text/plain": [
       "<Figure size 720x144 with 20 Axes>"
      ]
     },
     "metadata": {
      "needs_background": "light"
     },
     "output_type": "display_data"
    }
   ],
   "source": [
    "learning_rate = 0.01\n",
    "training_epoch = 50\n",
    "batch_size = 100\n",
    "n_hidden = 512 #은닉층 뉴런개수\n",
    "n_input = 28*28 # 입력값의 크기\n",
    "\n",
    "X = tf.placeholder(tf.float32, [None, n_input])\n",
    "\n",
    "W_encode = tf.Variable(tf.random_normal([n_input,n_hidden]))\n",
    "b_encode = tf.Variable(tf.random_normal([n_hidden]))\n",
    "\n",
    "encoder = tf.nn.sigmoid(tf.add(tf.matmul(X,W_encode),b_encode))\n",
    "\n",
    "W_decode = tf.Variable(tf.random_normal([n_hidden,n_input]))\n",
    "b_decode = tf.Variable(tf.random_normal([n_input]))\n",
    "\n",
    "decoder = tf.nn.sigmoid(tf.add(tf.matmul(encoder,W_decode),b_decode))\n",
    "\n",
    "cost = tf.reduce_mean(tf.pow(X - decoder, 2))\n",
    "optimizer = tf.train.RMSPropOptimizer(learning_rate).minimize(cost)\n",
    "\n",
    "init = tf.global_variables_initializer()\n",
    "sess = tf.Session()\n",
    "sess.run(init)\n",
    "\n",
    "total_batch = int(mnist.train.num_examples/batch_size)\n",
    "\n",
    "for epoch in range(training_epoch):\n",
    "    total_cost = 0\n",
    "    \n",
    "    for i in range(total_batch):\n",
    "        batch_xs, batch_ys = mnist.train.next_batch(batch_size)\n",
    "        \n",
    "        _, cost_val = sess.run([optimizer, cost], feed_dict={X: batch_xs})\n",
    "        \n",
    "        total_cost += cost_val\n",
    "        \n",
    "    print('Epoch:', '%04d' % (epoch +1),'Avg. cost =','{:.4f}'.format(total_cost / total_batch))\n",
    "\n",
    "print('최적화 완료')\n",
    "print('==하이퍼파라미터 정보==')\n",
    "print('learning_rate')\n",
    "print(learning_rate)\n",
    "print('training_epoch')\n",
    "print(training_epoch)\n",
    "print('batch_size')\n",
    "print(batch_size)\n",
    "print('n_hidden')\n",
    "print(n_hidden)\n",
    "print('n_input')\n",
    "print(n_input)\n",
    "\n",
    "sample_size = 10\n",
    "samples = sess.run(decoder, feed_dict={X:mnist.test.images[:sample_size]})\n",
    "\n",
    "fig, ax = plt.subplots(2, sample_size, figsize = (sample_size,2))\n",
    "\n",
    "for i in range(sample_size):\n",
    "    ax[0][i].set_axis_off()\n",
    "    ax[1][i].set_axis_off()\n",
    "    ax[0][i].imshow(np.reshape(mnist.test.images[i],(28,28)))\n",
    "    ax[1][i].imshow(np.reshape(samples[i],(28,28)))\n",
    "    \n",
    "plt.show()"
   ]
  },
  {
   "cell_type": "markdown",
   "metadata": {},
   "source": [
    "#### 활성화 함수에 따른 결과 비교"
   ]
  },
  {
   "cell_type": "code",
   "execution_count": 7,
   "metadata": {},
   "outputs": [
    {
     "name": "stdout",
     "output_type": "stream",
     "text": [
      "Epoch: 0001 Avg. cost = 73.2167\n",
      "Epoch: 0002 Avg. cost = 0.1121\n",
      "Epoch: 0003 Avg. cost = 0.1121\n",
      "Epoch: 0004 Avg. cost = 0.1120\n",
      "Epoch: 0005 Avg. cost = 0.1120\n",
      "Epoch: 0006 Avg. cost = 0.1120\n",
      "Epoch: 0007 Avg. cost = 0.1120\n",
      "Epoch: 0008 Avg. cost = 0.1120\n",
      "Epoch: 0009 Avg. cost = 0.1120\n",
      "Epoch: 0010 Avg. cost = 0.1120\n",
      "Epoch: 0011 Avg. cost = 0.1120\n",
      "Epoch: 0012 Avg. cost = 0.1120\n",
      "Epoch: 0013 Avg. cost = 0.1120\n",
      "Epoch: 0014 Avg. cost = 0.1120\n",
      "Epoch: 0015 Avg. cost = 0.1120\n",
      "Epoch: 0016 Avg. cost = 0.1120\n",
      "Epoch: 0017 Avg. cost = 0.1120\n",
      "Epoch: 0018 Avg. cost = 0.1120\n",
      "Epoch: 0019 Avg. cost = 0.1120\n",
      "Epoch: 0020 Avg. cost = 0.1120\n",
      "Epoch: 0021 Avg. cost = 0.1120\n",
      "Epoch: 0022 Avg. cost = 0.1120\n",
      "Epoch: 0023 Avg. cost = 0.1120\n",
      "Epoch: 0024 Avg. cost = 0.1120\n",
      "Epoch: 0025 Avg. cost = 0.1120\n",
      "Epoch: 0026 Avg. cost = 0.1120\n",
      "Epoch: 0027 Avg. cost = 0.1120\n",
      "Epoch: 0028 Avg. cost = 0.1120\n",
      "Epoch: 0029 Avg. cost = 0.1120\n",
      "Epoch: 0030 Avg. cost = 0.1120\n",
      "Epoch: 0031 Avg. cost = 0.1120\n",
      "Epoch: 0032 Avg. cost = 0.1120\n",
      "Epoch: 0033 Avg. cost = 0.1120\n",
      "Epoch: 0034 Avg. cost = 0.1120\n",
      "Epoch: 0035 Avg. cost = 0.1120\n",
      "Epoch: 0036 Avg. cost = 0.1120\n",
      "Epoch: 0037 Avg. cost = 0.1120\n",
      "Epoch: 0038 Avg. cost = 0.1120\n",
      "Epoch: 0039 Avg. cost = 0.1120\n",
      "Epoch: 0040 Avg. cost = 0.1120\n",
      "Epoch: 0041 Avg. cost = 0.1120\n",
      "Epoch: 0042 Avg. cost = 0.1120\n",
      "Epoch: 0043 Avg. cost = 0.1120\n",
      "Epoch: 0044 Avg. cost = 0.1120\n",
      "Epoch: 0045 Avg. cost = 0.1120\n",
      "Epoch: 0046 Avg. cost = 0.1120\n",
      "Epoch: 0047 Avg. cost = 0.1120\n",
      "Epoch: 0048 Avg. cost = 0.1120\n",
      "Epoch: 0049 Avg. cost = 0.1120\n",
      "Epoch: 0050 Avg. cost = 0.1120\n",
      "최적화 완료\n",
      "==하이퍼파라미터 정보==\n",
      "learning_rate\n",
      "0.01\n",
      "training_epoch\n",
      "50\n",
      "batch_size\n",
      "100\n",
      "n_hidden\n",
      "512\n",
      "n_input\n",
      "784\n"
     ]
    },
    {
     "data": {
      "image/png": "[encoded data removed]",
      "text/plain": [
       "<Figure size 720x144 with 20 Axes>"
      ]
     },
     "metadata": {
      "needs_background": "light"
     },
     "output_type": "display_data"
    }
   ],
   "source": [
    "learning_rate = 0.01\n",
    "training_epoch = 50\n",
    "batch_size = 100\n",
    "n_hidden = 512 #은닉층 뉴런개수\n",
    "n_input = 28*28 # 입력값의 크기\n",
    "\n",
    "X = tf.placeholder(tf.float32, [None, n_input])\n",
    "\n",
    "W_encode = tf.Variable(tf.random_normal([n_input,n_hidden]))\n",
    "b_encode = tf.Variable(tf.random_normal([n_hidden]))\n",
    "\n",
    "#encoder = tf.nn.sigmoid(tf.add(tf.matmul(X,W_encode),b_encode))\n",
    "encoder = tf.nn.relu(tf.add(tf.matmul(X, W_encode),b_encode))\n",
    "\n",
    "W_decode = tf.Variable(tf.random_normal([n_hidden,n_input]))\n",
    "b_decode = tf.Variable(tf.random_normal([n_input]))\n",
    "\n",
    "#decoder = tf.nn.sigmoid(tf.add(tf.matmul(encoder,W_decode),b_decode))\n",
    "decoder = tf.nn.relu(tf.add(tf.matmul(encoder,W_decode),b_decode))\n",
    "\n",
    "cost = tf.reduce_mean(tf.pow(X - decoder, 2))\n",
    "optimizer = tf.train.RMSPropOptimizer(learning_rate).minimize(cost)\n",
    "\n",
    "init = tf.global_variables_initializer()\n",
    "sess = tf.Session()\n",
    "sess.run(init)\n",
    "\n",
    "total_batch = int(mnist.train.num_examples/batch_size)\n",
    "\n",
    "for epoch in range(training_epoch):\n",
    "    total_cost = 0\n",
    "    \n",
    "    for i in range(total_batch):\n",
    "        batch_xs, batch_ys = mnist.train.next_batch(batch_size)\n",
    "        \n",
    "        _, cost_val = sess.run([optimizer, cost], feed_dict={X: batch_xs})\n",
    "        \n",
    "        total_cost += cost_val\n",
    "        \n",
    "    print('Epoch:', '%04d' % (epoch +1),'Avg. cost =','{:.4f}'.format(total_cost / total_batch))\n",
    "\n",
    "print('최적화 완료')\n",
    "print('==하이퍼파라미터 정보==')\n",
    "print('learning_rate')\n",
    "print(learning_rate)\n",
    "print('training_epoch')\n",
    "print(training_epoch)\n",
    "print('batch_size')\n",
    "print(batch_size)\n",
    "print('n_hidden')\n",
    "print(n_hidden)\n",
    "print('n_input')\n",
    "print(n_input)\n",
    "\n",
    "sample_size = 10\n",
    "samples = sess.run(decoder, feed_dict={X:mnist.test.images[:sample_size]})\n",
    "\n",
    "fig, ax = plt.subplots(2, sample_size, figsize = (sample_size,2))\n",
    "\n",
    "for i in range(sample_size):\n",
    "    ax[0][i].set_axis_off()\n",
    "    ax[1][i].set_axis_off()\n",
    "    ax[0][i].imshow(np.reshape(mnist.test.images[i],(28,28)))\n",
    "    ax[1][i].imshow(np.reshape(samples[i],(28,28)))\n",
    "    \n",
    "plt.show()"
   ]
  },
  {
   "cell_type": "code",
   "execution_count": null,
   "metadata": {},
   "outputs": [],
   "source": []
  }
 ],
 "metadata": {
  "kernelspec": {
   "display_name": "Python 3",
   "language": "python",
   "name": "python3"
  },
  "language_info": {
   "codemirror_mode": {
    "name": "ipython",
    "version": 3
   },
   "file_extension": ".py",
   "mimetype": "text/x-python",
   "name": "python",
   "nbconvert_exporter": "python",
   "pygments_lexer": "ipython3",
   "version": "3.7.6"
  }
 },
 "nbformat": 4,
 "nbformat_minor": 4
}
