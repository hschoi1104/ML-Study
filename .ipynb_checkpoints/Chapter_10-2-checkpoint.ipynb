{
 "cells": [
  {
   "cell_type": "markdown",
   "metadata": {},
   "source": [
    "# Chapter 10 - RNN\n",
    "\n",
    "## ch10.2\n",
    "\n",
    "### 단어 자동완성\n",
    "- 영문자 4개로 된 단어를 학습시켜, 3글자만 주어지면 나머지 한 글자를 추천하여 단어를 완성하는 프로그램"
   ]
  },
  {
   "cell_type": "code",
   "execution_count": 1,
   "metadata": {},
   "outputs": [
    {
     "name": "stdout",
     "output_type": "stream",
     "text": [
      "WARNING:tensorflow:From c:\\python3.7\\lib\\site-packages\\tensorflow_core\\python\\compat\\v2_compat.py:65: disable_resource_variables (from tensorflow.python.ops.variable_scope) is deprecated and will be removed in a future version.\n",
      "Instructions for updating:\n",
      "non-resource variables are not supported in the long term\n"
     ]
    }
   ],
   "source": [
    "import tensorflow.compat.v1 as tf\n",
    "tf.disable_v2_behavior()\n",
    "import numpy as np\n",
    "\n",
    "char_arr = ['a', 'b', 'c', 'd', 'e', 'f', 'g',\n",
    "            'h', 'i', 'j', 'k', 'l', 'm', 'n',\n",
    "            'o', 'p', 'q', 'r', 's', 't', 'u',\n",
    "            'v', 'w', 'x', 'y', 'z']\n",
    "\n",
    "num_dic = {n: i for i, n in enumerate(char_arr)}\n",
    "dic_len = len(num_dic)\n",
    "\n",
    "# 학습에 사용할 단어\n",
    "seq_data = ['word', 'wood', 'deep', 'dive', 'cold', 'cool', 'load', 'love', 'kiss', 'kind']"
   ]
  },
  {
   "cell_type": "markdown",
   "metadata": {},
   "source": [
    "#### 학습에 사용할 수 있는 형식으로 변호나해주는 유틸리티 함수 작성\n",
    "1. 입력값용으로, 단어의 처음 세 글자의 알파벳 인덱스를 구한 배열을 만든다.\n",
    "> input = [num_dic[n] for n in seq[:-1]]\n",
    "2. 출력값용으로, 마지막 글자의 알파벳 인덱스를 구한다.\n",
    "> target = num_dic[seq[-1]]\n",
    "3. 입력값을 원-핫 인코딩으로 변환\n",
    "> input_batch.append(np.eye(dic_len)[input])\n",
    "\n",
    "#### 예시\n",
    "`deep` 경우\n",
    "- 입력으로 `d,e,e`를 취함.\n",
    "- 알파벳의 인덱스를 구해 배열로 만들면 `[3,4,4]`가 됨\n",
    "- 원핫 인코딩 하면\n",
    "\n",
    "```\n",
    "[[0. 0. 0. 1. 0. 0. 0....]\n",
    " [0. 0. 0. 1. 0. 0. 0....]\n",
    " [0. 0. 0. 0. 1. 0. 0....]]\n",
    " ```\n",
    "- 실측값은 p의 인덱스인 15가 된다.\n",
    "\n",
    "- 실측값은 원-핫 인코딩하지 않고 15를 그대로 사용\n",
    "\n",
    "- `sparse_softmax_cross_entropy_with_logits`를 사용 할 예정이기 때문\n",
    "\n",
    "- `sparse_softmax_cross_entropy_with_logits`:실측값,에 원-핫 인코딩을 사용하지 않아도 자동으로 변환"
   ]
  },
  {
   "cell_type": "code",
   "execution_count": 2,
   "metadata": {},
   "outputs": [],
   "source": [
    "def make_batch(seq_data):\n",
    "    input_batch = []\n",
    "    target_batch = []\n",
    "\n",
    "    for seq in seq_data:\n",
    "        input = [num_dic[n] for n in seq[:-1]]\n",
    "        target = num_dic[seq[-1]]\n",
    "        input_batch.append(np.eye(dic_len)[input])\n",
    "        target_batch.append(target)\n",
    "\n",
    "    return input_batch, target_batch"
   ]
  },
  {
   "cell_type": "markdown",
   "metadata": {},
   "source": [
    "### 신경망 모델 구성\n",
    "#### 하이퍼 파라미터 설정\n",
    "- `sparse_softmax_cross_entropy_with_logits` 함수를 사용할 때 실측값인 Labels 값은 인덱스의 숫자를 그대로 사용하고, 예측 모델의 출력값은 인덱스의 원-핫 인코딩을 사용\n",
    "- 예측모델의 출력값은 원-핫 인코딩을 사용"
   ]
  },
  {
   "cell_type": "code",
   "execution_count": 3,
   "metadata": {},
   "outputs": [],
   "source": [
    "learning_rate = 0.01\n",
    "n_hidden = 128\n",
    "total_epoch = 30\n",
    "n_step = 3 # 3글자를 학습 할 것\n",
    "n_input = n_class = dic_len # 원핫 인코딩을 이용하므로 `dic_len`과 일치"
   ]
  },
  {
   "cell_type": "markdown",
   "metadata": {},
   "source": [
    "#### 모델 구성"
   ]
  },
  {
   "cell_type": "code",
   "execution_count": 4,
   "metadata": {},
   "outputs": [],
   "source": [
    "X = tf.placeholder(tf.float32, [None, n_step, n_input])\n",
    "Y = tf.placeholder(tf.int32, [None]) \n",
    "# batch_size의 하나의 차원만 있음\n",
    "# 원-핫 인코딩이 아니라 인덱스 숫자를 그대로 사용하기 때문 \n",
    "\n",
    "W = tf.Variable(tf.random_normal([n_hidden, n_class]))\n",
    "b = tf.Variable(tf.random_normal([n_class]))"
   ]
  },
  {
   "cell_type": "markdown",
   "metadata": {},
   "source": [
    "#### RNN 셀 생성\n",
    "- 여러 셀을 조합해 심층 신경망을 만들기 위해 두개의 RNN 셀 생성\n",
    "- `DropoutWrapper`함수를 이용해 RNN에서도 과적합 방지를 위한 드롭아웃 기법 적용 가능"
   ]
  },
  {
   "cell_type": "code",
   "execution_count": 5,
   "metadata": {},
   "outputs": [
    {
     "name": "stdout",
     "output_type": "stream",
     "text": [
      "WARNING:tensorflow:From <ipython-input-5-c6b59c0bdf95>:1: BasicLSTMCell.__init__ (from tensorflow.python.ops.rnn_cell_impl) is deprecated and will be removed in a future version.\n",
      "Instructions for updating:\n",
      "This class is equivalent as tf.keras.layers.LSTMCell, and will be replaced by that in Tensorflow 2.0.\n"
     ]
    }
   ],
   "source": [
    "cell1 = tf.nn.rnn_cell.BasicLSTMCell(n_hidden)\n",
    "cell1 = tf.nn.rnn_cell.DropoutWrapper(cell1, output_keep_prob=0.5)\n",
    "cell2 = tf.nn.rnn_cell.BasicLSTMCell(n_hidden)"
   ]
  },
  {
   "cell_type": "markdown",
   "metadata": {},
   "source": [
    "#### 심층순환신경망 DeepRNN\n",
    "- `Multi_cell` 함수를 이용해 조합하고 `dynamic_rnn`을 이용해 심층 순환 신경망 만듬"
   ]
  },
  {
   "cell_type": "code",
   "execution_count": 6,
   "metadata": {},
   "outputs": [
    {
     "name": "stdout",
     "output_type": "stream",
     "text": [
      "WARNING:tensorflow:From <ipython-input-6-bdaa49857441>:1: MultiRNNCell.__init__ (from tensorflow.python.ops.rnn_cell_impl) is deprecated and will be removed in a future version.\n",
      "Instructions for updating:\n",
      "This class is equivalent as tf.keras.layers.StackedRNNCells, and will be replaced by that in Tensorflow 2.0.\n",
      "WARNING:tensorflow:From <ipython-input-6-bdaa49857441>:3: dynamic_rnn (from tensorflow.python.ops.rnn) is deprecated and will be removed in a future version.\n",
      "Instructions for updating:\n",
      "Please use `keras.layers.RNN(cell)`, which is equivalent to this API\n",
      "WARNING:tensorflow:From c:\\python3.7\\lib\\site-packages\\tensorflow_core\\python\\ops\\rnn_cell_impl.py:735: Layer.add_variable (from tensorflow.python.keras.engine.base_layer) is deprecated and will be removed in a future version.\n",
      "Instructions for updating:\n",
      "Please use `layer.add_weight` method instead.\n",
      "WARNING:tensorflow:From c:\\python3.7\\lib\\site-packages\\tensorflow_core\\python\\ops\\rnn_cell_impl.py:739: calling Zeros.__init__ (from tensorflow.python.ops.init_ops) with dtype is deprecated and will be removed in a future version.\n",
      "Instructions for updating:\n",
      "Call initializer instance with the dtype argument instead of passing it to the constructor\n"
     ]
    }
   ],
   "source": [
    "multi_cell = tf.nn.rnn_cell.MultiRNNCell([cell1, cell2])\n",
    "# time_major=True\n",
    "outputs, states = tf.nn.dynamic_rnn(multi_cell, X, dtype=tf.float32)"
   ]
  },
  {
   "cell_type": "markdown",
   "metadata": {},
   "source": [
    "#### 최종 출력층"
   ]
  },
  {
   "cell_type": "code",
   "execution_count": 7,
   "metadata": {},
   "outputs": [],
   "source": [
    "outputs = tf.transpose(outputs, [1, 0, 2])\n",
    "outputs = outputs[-1]\n",
    "model = tf.matmul(outputs, W) + b"
   ]
  },
  {
   "cell_type": "markdown",
   "metadata": {},
   "source": [
    "#### 손실함수와 최적화 함수 설정 및 모델 구성 마무리"
   ]
  },
  {
   "cell_type": "code",
   "execution_count": 8,
   "metadata": {},
   "outputs": [],
   "source": [
    "cost = tf.reduce_mean(tf.nn.sparse_softmax_cross_entropy_with_logits(logits=model, labels=Y))\n",
    "optimizer = tf.train.AdamOptimizer(learning_rate).minimize(cost)"
   ]
  },
  {
   "cell_type": "markdown",
   "metadata": {},
   "source": [
    "### 신경망 학습\n",
    "#### 학습 진행\n"
   ]
  },
  {
   "cell_type": "code",
   "execution_count": 9,
   "metadata": {},
   "outputs": [
    {
     "name": "stdout",
     "output_type": "stream",
     "text": [
      "Epoch: 0001 cost = 2.562865\n",
      "Epoch: 0002 cost = 1.905663\n",
      "Epoch: 0003 cost = 1.377334\n",
      "Epoch: 0004 cost = 0.786262\n",
      "Epoch: 0005 cost = 0.801324\n",
      "Epoch: 0006 cost = 0.485126\n",
      "Epoch: 0007 cost = 0.557528\n",
      "Epoch: 0008 cost = 0.461366\n",
      "Epoch: 0009 cost = 0.297106\n",
      "Epoch: 0010 cost = 0.512536\n",
      "Epoch: 0011 cost = 0.412064\n",
      "Epoch: 0012 cost = 0.277375\n",
      "Epoch: 0013 cost = 0.329555\n",
      "Epoch: 0014 cost = 0.296244\n",
      "Epoch: 0015 cost = 0.344352\n",
      "Epoch: 0016 cost = 0.290036\n",
      "Epoch: 0017 cost = 0.206698\n",
      "Epoch: 0018 cost = 0.080102\n",
      "Epoch: 0019 cost = 0.034261\n",
      "Epoch: 0020 cost = 0.129824\n",
      "Epoch: 0021 cost = 0.055783\n",
      "Epoch: 0022 cost = 0.074521\n",
      "Epoch: 0023 cost = 0.031576\n",
      "Epoch: 0024 cost = 0.042749\n",
      "Epoch: 0025 cost = 0.012007\n",
      "Epoch: 0026 cost = 0.028949\n",
      "Epoch: 0027 cost = 0.062839\n",
      "Epoch: 0028 cost = 0.005002\n",
      "Epoch: 0029 cost = 0.008009\n",
      "Epoch: 0030 cost = 0.003160\n",
      "최적화 완료!\n"
     ]
    }
   ],
   "source": [
    "sess = tf.Session()\n",
    "sess.run(tf.global_variables_initializer())\n",
    "\n",
    "input_batch, target_batch = make_batch(seq_data)\n",
    "\n",
    "for epoch in range(total_epoch):\n",
    "    _, loss = sess.run([optimizer, cost],feed_dict={X: input_batch, Y: target_batch})\n",
    "\n",
    "    print('Epoch:', '%04d' % (epoch + 1),'cost =', '{:.6f}'.format(loss))\n",
    "\n",
    "print('최적화 완료!')"
   ]
  },
  {
   "cell_type": "markdown",
   "metadata": {},
   "source": [
    "##### 결과 확인"
   ]
  },
  {
   "cell_type": "code",
   "execution_count": 10,
   "metadata": {},
   "outputs": [
    {
     "name": "stdout",
     "output_type": "stream",
     "text": [
      "\n",
      "=== 예측 결과 ===\n",
      "입력값: ['wor ', 'woo ', 'dee ', 'div ', 'col ', 'coo ', 'loa ', 'lov ', 'kis ', 'kin ']\n",
      "예측값: ['word', 'wood', 'deep', 'dive', 'cold', 'cool', 'load', 'love', 'kiss', 'kind']\n",
      "정확도: 1.0\n"
     ]
    }
   ],
   "source": [
    "# 레이블값이 정수이므로 예측값도 정수로 변경해줍니다.\n",
    "prediction = tf.cast(tf.argmax(model, 1), tf.int32)\n",
    "# one-hot 인코딩이 아니므로 입력값을 그대로 비교합니다.\n",
    "prediction_check = tf.equal(prediction, Y)\n",
    "accuracy = tf.reduce_mean(tf.cast(prediction_check, tf.float32))\n",
    "\n",
    "input_batch, target_batch = make_batch(seq_data)\n",
    "\n",
    "predict, accuracy_val = sess.run([prediction, accuracy],\n",
    "                                 feed_dict={X: input_batch, Y: target_batch})\n",
    "\n",
    "predict_words = []\n",
    "for idx, val in enumerate(seq_data):\n",
    "    last_char = char_arr[predict[idx]]\n",
    "    predict_words.append(val[:3] + last_char)\n",
    "\n",
    "print('\\n=== 예측 결과 ===')\n",
    "print('입력값:', [w[:3] + ' ' for w in seq_data])\n",
    "print('예측값:', predict_words)\n",
    "print('정확도:', accuracy_val)"
   ]
  }
 ],
 "metadata": {
  "kernelspec": {
   "display_name": "Python 3",
   "language": "python",
   "name": "python3"
  },
  "language_info": {
   "codemirror_mode": {
    "name": "ipython",
    "version": 3
   },
   "file_extension": ".py",
   "mimetype": "text/x-python",
   "name": "python",
   "nbconvert_exporter": "python",
   "pygments_lexer": "ipython3",
   "version": "3.7.6"
  }
 },
 "nbformat": 4,
 "nbformat_minor": 4
}
