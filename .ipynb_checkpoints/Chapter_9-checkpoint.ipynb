{
 "cells": [
  {
   "cell_type": "markdown",
   "metadata": {},
   "source": [
    "# Chapter 9 - GAN\n",
    "\n",
    "## ch9.1\n",
    "\n",
    "### GAN 기본 모델 구현하기"
   ]
  },
  {
   "cell_type": "code",
   "execution_count": 1,
   "metadata": {},
   "outputs": [
    {
     "name": "stdout",
     "output_type": "stream",
     "text": [
      "WARNING:tensorflow:From c:\\python3.7\\lib\\site-packages\\tensorflow_core\\python\\compat\\v2_compat.py:65: disable_resource_variables (from tensorflow.python.ops.variable_scope) is deprecated and will be removed in a future version.\n",
      "Instructions for updating:\n",
      "non-resource variables are not supported in the long term\n",
      "WARNING:tensorflow:From <ipython-input-1-ca5da1a1430c>:7: read_data_sets (from tensorflow.examples.tutorials.mnist.input_data) is deprecated and will be removed in a future version.\n",
      "Instructions for updating:\n",
      "Please use alternatives such as: tensorflow_datasets.load('mnist')\n",
      "WARNING:tensorflow:From c:\\python3.7\\lib\\site-packages\\tensorflow_core\\examples\\tutorials\\mnist\\input_data.py:297: _maybe_download (from tensorflow.examples.tutorials.mnist.input_data) is deprecated and will be removed in a future version.\n",
      "Instructions for updating:\n",
      "Please write your own downloading logic.\n",
      "WARNING:tensorflow:From c:\\python3.7\\lib\\site-packages\\tensorflow_core\\examples\\tutorials\\mnist\\input_data.py:299: _extract_images (from tensorflow.examples.tutorials.mnist.input_data) is deprecated and will be removed in a future version.\n",
      "Instructions for updating:\n",
      "Please use tf.data to implement this functionality.\n",
      "Extracting ./mnist/data/train-images-idx3-ubyte.gz\n",
      "WARNING:tensorflow:From c:\\python3.7\\lib\\site-packages\\tensorflow_core\\examples\\tutorials\\mnist\\input_data.py:304: _extract_labels (from tensorflow.examples.tutorials.mnist.input_data) is deprecated and will be removed in a future version.\n",
      "Instructions for updating:\n",
      "Please use tf.data to implement this functionality.\n",
      "Extracting ./mnist/data/train-labels-idx1-ubyte.gz\n",
      "WARNING:tensorflow:From c:\\python3.7\\lib\\site-packages\\tensorflow_core\\examples\\tutorials\\mnist\\input_data.py:112: _dense_to_one_hot (from tensorflow.examples.tutorials.mnist.input_data) is deprecated and will be removed in a future version.\n",
      "Instructions for updating:\n",
      "Please use tf.one_hot on tensors.\n",
      "Extracting ./mnist/data/t10k-images-idx3-ubyte.gz\n",
      "Extracting ./mnist/data/t10k-labels-idx1-ubyte.gz\n",
      "WARNING:tensorflow:From c:\\python3.7\\lib\\site-packages\\tensorflow_core\\examples\\tutorials\\mnist\\input_data.py:328: _DataSet.__init__ (from tensorflow.examples.tutorials.mnist.input_data) is deprecated and will be removed in a future version.\n",
      "Instructions for updating:\n",
      "Please use alternatives such as official/mnist/_DataSet.py from tensorflow/models.\n"
     ]
    }
   ],
   "source": [
    "import tensorflow.compat.v1 as tf\n",
    "tf.disable_v2_behavior()\n",
    "import numpy as np\n",
    "import matplotlib.pyplot as plt\n",
    "\n",
    "from tensorflow.examples.tutorials.mnist import input_data\n",
    "mnist = input_data.read_data_sets(\"./mnist/data/\", one_hot=True)"
   ]
  },
  {
   "cell_type": "markdown",
   "metadata": {},
   "source": [
    "#### 하이퍼파라미터 설정"
   ]
  },
  {
   "cell_type": "code",
   "execution_count": 2,
   "metadata": {},
   "outputs": [],
   "source": [
    "total_epoch = 100\n",
    "batch_size = 100\n",
    "learning_rate = 0.0002\n",
    "n_hidden = 256\n",
    "n_input = 28*28\n",
    "n_noise = 128 #노이즈의 크기"
   ]
  },
  {
   "cell_type": "markdown",
   "metadata": {},
   "source": [
    "#### 플레이스홀더\n",
    "\n",
    "- GAN도 비지도학습 이므로 Y를 사용하지 않음\n",
    "- 실제 이미지와 가짜이미지 사용, 가짜이미지는 노이즈에서 생성"
   ]
  },
  {
   "cell_type": "code",
   "execution_count": 3,
   "metadata": {},
   "outputs": [],
   "source": [
    "X = tf.placeholder(tf.float32, [None, n_input]) # 실제이미지\n",
    "Z = tf.placeholder(tf.float32, [None, n_noise]) # 가짜이미지"
   ]
  },
  {
   "cell_type": "markdown",
   "metadata": {},
   "source": [
    "#### 생성자 신경망에 사용할 변수들 설정\n",
    "\n",
    "- 첫 벌쨰 가중치와 편향은 은닉층으로 출력\n",
    "- 두 번째 가중치와 편향은 출력층에 사용할 변수. 두 번째 가중치의 변수 크기는 실제 이미지의 크기와 같아야한다. (n_input, 28*28 = 784)"
   ]
  },
  {
   "cell_type": "code",
   "execution_count": 4,
   "metadata": {},
   "outputs": [],
   "source": [
    "G_W1 = tf.Variable(tf.random_normal([n_noise, n_hidden],stddev=0.01))\n",
    "G_b1 = tf.Variable(tf.zeros([n_hidden]))\n",
    "G_W2 = tf.Variable(tf.random_normal([n_hidden, n_input], stddev=0.01))\n",
    "G_b2 = tf.Variable(tf.zeros([n_input]))"
   ]
  },
  {
   "cell_type": "markdown",
   "metadata": {},
   "source": [
    "#### 구분자 신경망에 사용할 변수들 설정\n",
    "\n",
    "- 구분자는 진짜와 얼마나 가까운가를 판단 0~1사이 값 출력\n",
    "\n",
    "- 하나의 스칼라값을 출력하도록 구성"
   ]
  },
  {
   "cell_type": "code",
   "execution_count": 5,
   "metadata": {},
   "outputs": [],
   "source": [
    "D_W1 = tf.Variable(tf.random_normal([n_input, n_hidden],stddev=0.01))\n",
    "D_b1 = tf.Variable(tf.zeros([n_hidden]))\n",
    "D_W2 = tf.Variable(tf.random_normal([n_hidden, 1], stddev=0.01))\n",
    "D_b2 = tf.Variable(tf.zeros([1]))"
   ]
  },
  {
   "cell_type": "markdown",
   "metadata": {},
   "source": [
    "**실제이미지 판별하는 구분자 신경망과 생성한 이미지를 판별하는 구분자 신경망은 같은 변수를 사용해야한다.**"
   ]
  },
  {
   "cell_type": "markdown",
   "metadata": {},
   "source": [
    "#### 생성자 신경망 구성\n",
    "\n",
    "- 무작위 생성 노이즈를 받아 가중치와 편향으로 은닉층을 만들고 은닉층에서 실제 이미지와 같은 크기의 결괏값을 출력함"
   ]
  },
  {
   "cell_type": "code",
   "execution_count": 6,
   "metadata": {},
   "outputs": [],
   "source": [
    "def generator(noise_z):\n",
    "    hidden = tf.nn.relu(tf.matmul(noise_z,G_W1)+G_b1)\n",
    "    output = tf.nn.sigmoid(tf.matmul(hidden,G_W2)+G_b2)\n",
    "    return output"
   ]
  },
  {
   "cell_type": "markdown",
   "metadata": {},
   "source": [
    "#### 구분자 신경망 구성\n",
    "\n",
    "- 0~1 사이의 스칼라값 하나를 출력하도록 하고, 이를 위한 활성화 함수로 sigmoid를 사용?"
   ]
  },
  {
   "cell_type": "code",
   "execution_count": 7,
   "metadata": {},
   "outputs": [],
   "source": [
    "def discriminator(inputs):\n",
    "    hidden = tf.nn.relu(tf.matmul(inputs,D_W1)+D_b1)\n",
    "    output = tf.nn.sigmoid(tf.matmul(hidden,D_W2)+D_b2)\n",
    "    return output"
   ]
  },
  {
   "cell_type": "markdown",
   "metadata": {},
   "source": [
    "#### 무작위 노이즈를 만들어주는 간단한 유틸리티 함수"
   ]
  },
  {
   "cell_type": "code",
   "execution_count": 8,
   "metadata": {},
   "outputs": [],
   "source": [
    "def get_noise(batch_size, n_noise):\n",
    "    return np.random.normal(size=(batch_size,n_noise))"
   ]
  },
  {
   "cell_type": "markdown",
   "metadata": {},
   "source": [
    "#### 노이즈 Z를 이용해 가짜 이미지를 만들 생성자 G를 만들고, 이 G가 만든 가짜이미지와 진짜 이미지 X를 각각 구분자에 넣어 입력한 이미지가 진짜인지를 판별하도록함"
   ]
  },
  {
   "cell_type": "code",
   "execution_count": 9,
   "metadata": {},
   "outputs": [],
   "source": [
    "G = generator(Z)\n",
    "D_gene = discriminator(G)\n",
    "D_real = discriminator(X)"
   ]
  },
  {
   "cell_type": "markdown",
   "metadata": {},
   "source": [
    "#### 손실값 구하기\n",
    "- 생성자가 만든 이미지를 구분자가 가짜라고 판단하도록 하는 손실값(`D_real`)\n",
    "- 생성자가 만든 이미지를 구분자가 진짜라고 판단하도록 하는 손실값(`D_gene`)\n",
    "\n",
    "두가지가 필요하다.\n",
    "\n",
    "#### 가짜를 가짜로 진짜를 진짜로 판별하기 위한 손실 값\n",
    "\n",
    "> **loss_D = tf.reduce_mean(tf.log(D_real)+tf.log(1-D_gene))**\n",
    "\n",
    "- `D_real` 은 1에 가까워야하고, `D_gene`는 0에 가까워야한다.\n",
    "- `D_real`과 `1에서 D_gene를 뺀 값`을 더한 값을 손실값으로 하여, 이값을 최대화하면 된다."
   ]
  },
  {
   "cell_type": "code",
   "execution_count": 10,
   "metadata": {},
   "outputs": [],
   "source": [
    "loss_D = tf.reduce_mean(tf.log(D_real)+tf.log(1-D_gene))"
   ]
  },
  {
   "cell_type": "markdown",
   "metadata": {},
   "source": [
    "#### 가짜를 진짜라고 판별하게 하기 위한 손실 값\n",
    "\n",
    ">**loss_G = tf.reduce_mean(tf.log(D_gene))**\n",
    "\n",
    "- 가짜 이미지 판별값 `D_gene`를 1에 가깝게 만들어야한다.최대화 시켜야한다.\n"
   ]
  },
  {
   "cell_type": "code",
   "execution_count": 11,
   "metadata": {},
   "outputs": [],
   "source": [
    "loss_G = tf.reduce_mean(tf.log(D_gene))"
   ]
  },
  {
   "cell_type": "markdown",
   "metadata": {},
   "source": [
    "#### GAN에서의 손실값\n",
    "- GAN학습은 `loss_D`와 `loss_G`를 모두 최대화 시키는 것이다.\n",
    "- `loss_D`와 `loss_G`는 연관되어있어 항상 같이 증가하진않는다. 경쟁관계이기 때문"
   ]
  },
  {
   "cell_type": "code",
   "execution_count": 12,
   "metadata": {},
   "outputs": [],
   "source": [
    "D_var_list = [D_W1,D_b1,D_W2,D_b2]\n",
    "G_var_list = [G_W1,G_b1,G_W2,G_b2]"
   ]
  },
  {
   "cell_type": "markdown",
   "metadata": {},
   "source": [
    "#### 변수 최적화 함수 구성\n",
    "- 손실값을 최대화시켜야하지만 최적화함수는 minimize뿐이므로 음수부호를 붙인다."
   ]
  },
  {
   "cell_type": "code",
   "execution_count": 13,
   "metadata": {},
   "outputs": [],
   "source": [
    "train_D = tf.train.AdamOptimizer(learning_rate).minimize(-loss_D,var_list=D_var_list)\n",
    "train_G = tf.train.AdamOptimizer(learning_rate).minimize(-loss_G,var_list=G_var_list)"
   ]
  },
  {
   "cell_type": "markdown",
   "metadata": {},
   "source": [
    "#### 학습시작"
   ]
  },
  {
   "cell_type": "code",
   "execution_count": 18,
   "metadata": {},
   "outputs": [
    {
     "name": "stdout",
     "output_type": "stream",
     "text": [
      "Epoch: 0000 D loss: -0.5156 G loss: -1.994\n",
      "Epoch: 0001 D loss: -0.3799 G loss: -2.294\n",
      "Epoch: 0002 D loss: -0.07814 G loss: -3.44\n",
      "Epoch: 0003 D loss: -0.7668 G loss: -1.405\n",
      "Epoch: 0004 D loss: -0.3404 G loss: -1.825\n",
      "Epoch: 0005 D loss: -0.5167 G loss: -2.024\n",
      "Epoch: 0006 D loss: -0.2263 G loss: -2.794\n",
      "Epoch: 0007 D loss: -0.2521 G loss: -2.797\n",
      "Epoch: 0008 D loss: -0.2103 G loss: -2.88\n",
      "Epoch: 0009 D loss: -0.1797 G loss: -3.053\n",
      "Epoch: 0010 D loss: -0.4085 G loss: -2.365\n",
      "Epoch: 0011 D loss: -0.6239 G loss: -2.124\n",
      "Epoch: 0012 D loss: -0.3544 G loss: -2.263\n",
      "Epoch: 0013 D loss: -0.4876 G loss: -1.756\n",
      "Epoch: 0014 D loss: -0.4495 G loss: -2.276\n",
      "Epoch: 0015 D loss: -0.3941 G loss: -2.309\n",
      "Epoch: 0016 D loss: -0.4014 G loss: -2.462\n",
      "Epoch: 0017 D loss: -0.3193 G loss: -2.737\n",
      "Epoch: 0018 D loss: -0.4471 G loss: -2.587\n",
      "Epoch: 0019 D loss: -0.5257 G loss: -2.175\n",
      "Epoch: 0020 D loss: -0.3471 G loss: -2.54\n",
      "Epoch: 0021 D loss: -0.5269 G loss: -2.204\n",
      "Epoch: 0022 D loss: -0.7153 G loss: -2.046\n",
      "Epoch: 0023 D loss: -0.5856 G loss: -2.015\n",
      "Epoch: 0024 D loss: -0.4773 G loss: -2.249\n",
      "Epoch: 0025 D loss: -0.5035 G loss: -2.23\n",
      "Epoch: 0026 D loss: -0.7337 G loss: -2.36\n",
      "Epoch: 0027 D loss: -0.4815 G loss: -2.572\n",
      "Epoch: 0028 D loss: -0.5097 G loss: -2.543\n",
      "Epoch: 0029 D loss: -0.3816 G loss: -2.55\n",
      "Epoch: 0030 D loss: -0.552 G loss: -2.4\n",
      "Epoch: 0031 D loss: -0.524 G loss: -2.19\n",
      "Epoch: 0032 D loss: -0.4648 G loss: -2.331\n",
      "Epoch: 0033 D loss: -0.5251 G loss: -2.517\n",
      "Epoch: 0034 D loss: -0.727 G loss: -2.069\n",
      "Epoch: 0035 D loss: -0.5046 G loss: -2.326\n",
      "Epoch: 0036 D loss: -0.6577 G loss: -1.998\n",
      "Epoch: 0037 D loss: -0.6707 G loss: -2.325\n",
      "Epoch: 0038 D loss: -0.854 G loss: -1.954\n",
      "Epoch: 0039 D loss: -0.6187 G loss: -2.168\n",
      "Epoch: 0040 D loss: -0.5995 G loss: -2.075\n",
      "Epoch: 0041 D loss: -0.7369 G loss: -1.88\n",
      "Epoch: 0042 D loss: -0.6068 G loss: -1.856\n",
      "Epoch: 0043 D loss: -0.5938 G loss: -2.467\n",
      "Epoch: 0044 D loss: -0.6169 G loss: -2.275\n",
      "Epoch: 0045 D loss: -0.6479 G loss: -2.282\n",
      "Epoch: 0046 D loss: -0.6244 G loss: -2.185\n",
      "Epoch: 0047 D loss: -0.6035 G loss: -1.992\n",
      "Epoch: 0048 D loss: -0.6066 G loss: -2.001\n",
      "Epoch: 0049 D loss: -0.7222 G loss: -2.16\n",
      "Epoch: 0050 D loss: -0.7028 G loss: -1.91\n",
      "Epoch: 0051 D loss: -0.6596 G loss: -1.874\n",
      "Epoch: 0052 D loss: -0.7451 G loss: -1.74\n",
      "Epoch: 0053 D loss: -0.7199 G loss: -2.045\n",
      "Epoch: 0054 D loss: -0.8728 G loss: -1.887\n",
      "Epoch: 0055 D loss: -0.6774 G loss: -2.053\n",
      "Epoch: 0056 D loss: -0.5823 G loss: -2.271\n",
      "Epoch: 0057 D loss: -0.9492 G loss: -1.571\n",
      "Epoch: 0058 D loss: -0.5649 G loss: -1.976\n",
      "Epoch: 0059 D loss: -0.8843 G loss: -1.792\n",
      "Epoch: 0060 D loss: -0.6138 G loss: -1.997\n",
      "Epoch: 0061 D loss: -0.725 G loss: -2.002\n",
      "Epoch: 0062 D loss: -0.8543 G loss: -1.802\n",
      "Epoch: 0063 D loss: -0.7273 G loss: -1.937\n",
      "Epoch: 0064 D loss: -0.8114 G loss: -1.706\n",
      "Epoch: 0065 D loss: -0.6376 G loss: -1.928\n",
      "Epoch: 0066 D loss: -0.7126 G loss: -1.99\n",
      "Epoch: 0067 D loss: -0.8394 G loss: -1.903\n",
      "Epoch: 0068 D loss: -0.8125 G loss: -1.748\n",
      "Epoch: 0069 D loss: -0.6677 G loss: -1.622\n",
      "Epoch: 0070 D loss: -0.8679 G loss: -1.739\n",
      "Epoch: 0071 D loss: -0.8251 G loss: -1.874\n",
      "Epoch: 0072 D loss: -0.7293 G loss: -1.725\n",
      "Epoch: 0073 D loss: -0.8256 G loss: -1.825\n",
      "Epoch: 0074 D loss: -0.8143 G loss: -1.784\n",
      "Epoch: 0075 D loss: -0.7651 G loss: -1.775\n",
      "Epoch: 0076 D loss: -0.7308 G loss: -2.029\n",
      "Epoch: 0077 D loss: -0.7095 G loss: -1.789\n",
      "Epoch: 0078 D loss: -0.734 G loss: -1.782\n",
      "Epoch: 0079 D loss: -0.7629 G loss: -1.82\n",
      "Epoch: 0080 D loss: -0.8961 G loss: -1.687\n",
      "Epoch: 0081 D loss: -0.7178 G loss: -1.766\n",
      "Epoch: 0082 D loss: -0.7719 G loss: -1.858\n",
      "Epoch: 0083 D loss: -0.8315 G loss: -1.765\n",
      "Epoch: 0084 D loss: -0.9603 G loss: -1.695\n",
      "Epoch: 0085 D loss: -0.7857 G loss: -1.716\n",
      "Epoch: 0086 D loss: -0.9575 G loss: -1.824\n",
      "Epoch: 0087 D loss: -0.7423 G loss: -1.692\n",
      "Epoch: 0088 D loss: -0.7331 G loss: -2.203\n",
      "Epoch: 0089 D loss: -0.8865 G loss: -1.781\n",
      "Epoch: 0090 D loss: -0.8036 G loss: -1.907\n",
      "Epoch: 0091 D loss: -0.7031 G loss: -1.83\n",
      "Epoch: 0092 D loss: -0.7437 G loss: -1.811\n",
      "Epoch: 0093 D loss: -0.7643 G loss: -1.787\n",
      "Epoch: 0094 D loss: -0.7974 G loss: -1.747\n",
      "Epoch: 0095 D loss: -0.7879 G loss: -1.639\n",
      "Epoch: 0096 D loss: -0.6641 G loss: -1.695\n",
      "Epoch: 0097 D loss: -0.6556 G loss: -1.929\n",
      "Epoch: 0098 D loss: -0.654 G loss: -1.838\n",
      "Epoch: 0099 D loss: -0.758 G loss: -1.91\n"
     ]
    }
   ],
   "source": [
    "sess = tf.Session()\n",
    "sess.run(tf.global_variables_initializer())\n",
    "\n",
    "total_batch = int(mnist.train.num_examples / batch_size)\n",
    "loss_val_D, loss_val_G = 0,0\n",
    "\n",
    "for epoch in range(total_epoch):\n",
    "    for i in range(total_batch):\n",
    "        batch_xs, batch_ys = mnist.train.next_batch(batch_size)\n",
    "        noise = get_noise(batch_size, n_noise)\n",
    "        \n",
    "        _, loss_val_D = sess.run([train_D,loss_D],feed_dict={X: batch_xs, Z:noise})\n",
    "        _, loss_val_G = sess.run([train_G,loss_G],feed_dict={Z:noise})\n",
    "        \n",
    "    print('Epoch:', '%04d' % epoch,'D loss: {:.4}'.format(loss_val_D),'G loss: {:.4}'.format(loss_val_G))\n",
    "    \n",
    "    if epoch == 0 or (epoch +1)%10 == 0:\n",
    "        sample_size = 10\n",
    "        noise = get_noise(sample_size, n_noise)\n",
    "        samples = sess.run(G, feed_dict={Z: noise})\n",
    "        \n",
    "        fig, ax = plt.subplots(1,sample_size, figsize=(sample_size,1))\n",
    "        \n",
    "        for i in range(sample_size):\n",
    "            ax[i].set_axis_off()\n",
    "            ax[i].imshow(np.reshape(samples[i],(28,28)))\n",
    "            \n",
    "        plt.savefig('ch9_samples/{}.png'.format(str(epoch).zfill(3)),bbox_inches = 'tight')\n",
    "        plt.close(fig)\n"
   ]
  },
  {
   "cell_type": "markdown",
   "metadata": {},
   "source": [
    "#### 결과\n",
    "![000](https://user-images.githubusercontent.com/43382559/74710061-1c1b9b80-5264-11ea-8817-ae2be188c7cc.png)\n",
    "![009](https://user-images.githubusercontent.com/43382559/74710064-1d4cc880-5264-11ea-9f50-b4af2cc9a8f0.png)\n",
    "![019](https://user-images.githubusercontent.com/43382559/74710067-1de55f00-5264-11ea-906e-142f1e573a88.png)\n",
    "![029](https://user-images.githubusercontent.com/43382559/74710068-1de55f00-5264-11ea-875d-2fa91eeab7d7.png)\n",
    "![039](https://user-images.githubusercontent.com/43382559/74710069-1e7df580-5264-11ea-9235-0268fff87dea.png)\n",
    "![049](https://user-images.githubusercontent.com/43382559/74710070-1e7df580-5264-11ea-8bb2-b63479b04376.png)\n",
    "![059](https://user-images.githubusercontent.com/43382559/74710071-1f168c00-5264-11ea-9c2b-8f7e652918f3.png)\n",
    "![069](https://user-images.githubusercontent.com/43382559/74710074-1faf2280-5264-11ea-9c14-6300f9cc4cdf.png)\n",
    "![079](https://user-images.githubusercontent.com/43382559/74710077-1faf2280-5264-11ea-9396-97d998a167a7.png)\n",
    "![089](https://user-images.githubusercontent.com/43382559/74710079-2047b900-5264-11ea-9789-3636e4f7c785.png)\n",
    "![099](https://user-images.githubusercontent.com/43382559/74710080-2047b900-5264-11ea-9a97-f3d0a96543c6.png)\n"
   ]
  },
  {
   "cell_type": "code",
   "execution_count": null,
   "metadata": {},
   "outputs": [],
   "source": []
  }
 ],
 "metadata": {
  "kernelspec": {
   "display_name": "Python 3",
   "language": "python",
   "name": "python3"
  },
  "language_info": {
   "codemirror_mode": {
    "name": "ipython",
    "version": 3
   },
   "file_extension": ".py",
   "mimetype": "text/x-python",
   "name": "python",
   "nbconvert_exporter": "python",
   "pygments_lexer": "ipython3",
   "version": "3.7.6"
  }
 },
 "nbformat": 4,
 "nbformat_minor": 4
}
